{
 "cells": [
  {
   "cell_type": "code",
   "execution_count": 3,
   "id": "01b4de55",
   "metadata": {},
   "outputs": [
    {
     "name": "stdout",
     "output_type": "stream",
     "text": [
      "   soilMoisture  soil_pHSensor  soilTemperature  soil_GasValue  status\n",
      "0            36           4.76            28.44              5       0\n",
      "1            36           4.13            28.44              5       0\n",
      "2            37           3.75            28.44              5       0\n",
      "3            38           3.37            28.44              5       0\n",
      "4            38           3.23            28.44              5       0\n"
     ]
    }
   ],
   "source": [
    "import pandas as pd\n",
    "\n",
    "# Read the Excel file into a DataFrame\n",
    "soil_data = pd.read_excel('Soil_Data.xlsx') #typo Contamination\n",
    "\n",
    "# Display the first few rows to verify the import\n",
    "print(soil_data.head())"
   ]
  },
  {
   "cell_type": "code",
   "execution_count": 4,
   "id": "e5d10600",
   "metadata": {},
   "outputs": [
    {
     "name": "stdout",
     "output_type": "stream",
     "text": [
      "Index(['soilMoisture', 'soil_pHSensor', 'soilTemperature', 'soil_GasValue',\n",
      "       'status'],\n",
      "      dtype='object')\n"
     ]
    }
   ],
   "source": [
    "print(soil_data.columns)"
   ]
  },
  {
   "cell_type": "code",
   "execution_count": 5,
   "id": "907e92f3",
   "metadata": {},
   "outputs": [],
   "source": [
    "soil_data = soil_data[soil_data['soil_pHSensor'] != 7.16]"
   ]
  },
  {
   "cell_type": "code",
   "execution_count": 6,
   "id": "3333c8ef",
   "metadata": {},
   "outputs": [
    {
     "name": "stdout",
     "output_type": "stream",
     "text": [
      "float64\n"
     ]
    }
   ],
   "source": [
    "print(soil_data['soil_pHSensor'].dtype)"
   ]
  },
  {
   "cell_type": "code",
   "execution_count": 7,
   "id": "1e7aa164",
   "metadata": {},
   "outputs": [
    {
     "name": "stdout",
     "output_type": "stream",
     "text": [
      "Empty DataFrame\n",
      "Columns: [soilMoisture, soil_pHSensor, soilTemperature, soil_GasValue, status]\n",
      "Index: []\n"
     ]
    }
   ],
   "source": [
    "rows_with_716 = soil_data[soil_data['soil_pHSensor'] == 7.16]\n",
    "print(rows_with_716)"
   ]
  },
  {
   "cell_type": "code",
   "execution_count": 8,
   "id": "318fbba8",
   "metadata": {},
   "outputs": [],
   "source": [
    "soil_data = soil_data.loc[:, ~soil_data.columns.str.contains('Unnamed')]"
   ]
  },
  {
   "cell_type": "code",
   "execution_count": 9,
   "id": "1b1e729b",
   "metadata": {},
   "outputs": [
    {
     "name": "stdout",
     "output_type": "stream",
     "text": [
      "   soilMoisture  soil_pHSensor  soilTemperature  soil_GasValue  status\n",
      "0            36           4.76            28.44              5       0\n",
      "1            36           4.13            28.44              5       0\n",
      "2            37           3.75            28.44              5       0\n",
      "3            38           3.37            28.44              5       0\n",
      "4            38           3.23            28.44              5       0\n"
     ]
    }
   ],
   "source": [
    "print(soil_data.head())"
   ]
  },
  {
   "cell_type": "code",
   "execution_count": 10,
   "id": "bb801145",
   "metadata": {},
   "outputs": [
    {
     "name": "stdout",
     "output_type": "stream",
     "text": [
      "(252, 5)\n"
     ]
    }
   ],
   "source": [
    "print(soil_data.shape)"
   ]
  },
  {
   "cell_type": "code",
   "execution_count": 11,
   "id": "7c5c0bf9",
   "metadata": {},
   "outputs": [
    {
     "name": "stdout",
     "output_type": "stream",
     "text": [
      "soilMoisture         int64\n",
      "soil_pHSensor      float64\n",
      "soilTemperature    float64\n",
      "soil_GasValue        int64\n",
      "status               int64\n",
      "dtype: object\n"
     ]
    }
   ],
   "source": [
    "# Convert 'soil_pHSensor' column to numeric (assuming it contains numeric values)\n",
    "soil_data['soil_pHSensor'] = pd.to_numeric(soil_data['soil_pHSensor'], errors='coerce')\n",
    "\n",
    "# Convert 'soilTemperature' column to numeric (assuming it contains numeric values)\n",
    "soil_data['soilTemperature'] = pd.to_numeric(soil_data['soilTemperature'], errors='coerce')\n",
    "\n",
    "# Check data types after conversion\n",
    "print(soil_data.dtypes)"
   ]
  },
  {
   "cell_type": "code",
   "execution_count": 12,
   "id": "c4647354",
   "metadata": {},
   "outputs": [],
   "source": [
    "#Decision Tree Classifier Building in Scikit-learn"
   ]
  },
  {
   "cell_type": "code",
   "execution_count": 13,
   "id": "46cd73ab",
   "metadata": {},
   "outputs": [],
   "source": [
    "from sklearn.tree import DecisionTreeClassifier # Import Decision Tree Classifier\n",
    "from sklearn.model_selection import train_test_split # Import train_test_split function\n",
    "from sklearn import metrics #Import scikit-learn metrics module for accuracy calculation"
   ]
  },
  {
   "cell_type": "code",
   "execution_count": 14,
   "id": "bcd7aa5b",
   "metadata": {},
   "outputs": [
    {
     "name": "stdout",
     "output_type": "stream",
     "text": [
      "   soilMoisture  soil_pHSensor  soilTemperature  soil_GasValue  status\n",
      "0            36           4.76            28.44              5       0\n",
      "1            36           4.13            28.44              5       0\n",
      "2            37           3.75            28.44              5       0\n",
      "3            38           3.37            28.44              5       0\n",
      "4            38           3.23            28.44              5       0\n",
      "<class 'pandas.core.frame.DataFrame'>\n",
      "Int64Index: 252 entries, 0 to 251\n",
      "Data columns (total 5 columns):\n",
      " #   Column           Non-Null Count  Dtype  \n",
      "---  ------           --------------  -----  \n",
      " 0   soilMoisture     252 non-null    int64  \n",
      " 1   soil_pHSensor    252 non-null    float64\n",
      " 2   soilTemperature  252 non-null    float64\n",
      " 3   soil_GasValue    252 non-null    int64  \n",
      " 4   status           252 non-null    int64  \n",
      "dtypes: float64(2), int64(3)\n",
      "memory usage: 11.8 KB\n",
      "None\n",
      "       soilMoisture  soil_pHSensor  soilTemperature  soil_GasValue      status\n",
      "count    252.000000     252.000000       252.000000     252.000000  252.000000\n",
      "mean      40.523810       3.632579        29.051667       8.396825    0.365079\n",
      "std       11.975549       2.286744         0.380834       7.372912    0.482411\n",
      "min        3.000000       0.010000        28.380000       0.000000    0.000000\n",
      "25%       29.750000       1.737500        28.500000       5.750000    0.000000\n",
      "50%       45.000000       3.530000        29.250000       6.000000    0.000000\n",
      "75%       48.000000       5.627500        29.310000       7.000000    1.000000\n",
      "max       89.000000       7.150000        29.500000      37.000000    1.000000\n"
     ]
    }
   ],
   "source": [
    "# Display first few rows of the DataFrame\n",
    "print(soil_data.head())\n",
    "\n",
    "# Get summary information about the DataFrame\n",
    "print(soil_data.info())\n",
    "\n",
    "# Get summary statistics of numerical columns\n",
    "print(soil_data.describe())"
   ]
  },
  {
   "cell_type": "code",
   "execution_count": 15,
   "id": "152fd941",
   "metadata": {},
   "outputs": [
    {
     "name": "stdout",
     "output_type": "stream",
     "text": [
      "soilMoisture       0\n",
      "soil_pHSensor      0\n",
      "soilTemperature    0\n",
      "soil_GasValue      0\n",
      "status             0\n",
      "dtype: int64\n"
     ]
    }
   ],
   "source": [
    "# Check for missing values\n",
    "print(soil_data.isnull().sum())\n",
    "\n",
    "# Drop rows with missing values\n",
    "soil_data.dropna(inplace=True)"
   ]
  },
  {
   "cell_type": "code",
   "execution_count": 16,
   "id": "f2f1baf0",
   "metadata": {},
   "outputs": [
    {
     "name": "stdout",
     "output_type": "stream",
     "text": [
      "       soilMoisture  soil_pHSensor  soilTemperature  soil_GasValue      status\n",
      "count    252.000000     252.000000       252.000000     252.000000  252.000000\n",
      "mean      40.523810       3.632579        29.051667       8.396825    0.365079\n",
      "std       11.975549       2.286744         0.380834       7.372912    0.482411\n",
      "min        3.000000       0.010000        28.380000       0.000000    0.000000\n",
      "25%       29.750000       1.737500        28.500000       5.750000    0.000000\n",
      "50%       45.000000       3.530000        29.250000       6.000000    0.000000\n",
      "75%       48.000000       5.627500        29.310000       7.000000    1.000000\n",
      "max       89.000000       7.150000        29.500000      37.000000    1.000000\n"
     ]
    }
   ],
   "source": [
    "print(soil_data.describe())"
   ]
  },
  {
   "cell_type": "code",
   "execution_count": 17,
   "id": "6d8e8e2e",
   "metadata": {},
   "outputs": [],
   "source": [
    "#split dataset in features and target variable\n",
    "feature_cols = ['soilMoisture', 'soil_pHSensor', 'soilTemperature', 'soil_GasValue']\n",
    "X = soil_data[feature_cols] # Features\n",
    "y = soil_data.status # Target variable"
   ]
  },
  {
   "cell_type": "code",
   "execution_count": 18,
   "id": "b67d345f",
   "metadata": {},
   "outputs": [],
   "source": [
    "# Split dataset into training set and test set\n",
    "X_train, X_test, y_train, y_test = train_test_split(X, y, test_size=0.3, random_state=1) # 70% training and 30% test"
   ]
  },
  {
   "cell_type": "code",
   "execution_count": 19,
   "id": "b398bae1",
   "metadata": {},
   "outputs": [],
   "source": [
    "# Create Decision Tree classifer object\n",
    "clf = DecisionTreeClassifier()\n",
    "\n",
    "# Train Decision Tree Classifer\n",
    "clf = clf.fit(X_train,y_train)\n",
    "\n",
    "#Predict the response for test dataset\n",
    "y_pred = clf.predict(X_test)"
   ]
  },
  {
   "cell_type": "code",
   "execution_count": 20,
   "id": "1a182f7f",
   "metadata": {},
   "outputs": [
    {
     "name": "stdout",
     "output_type": "stream",
     "text": [
      "Accuracy: 0.9342105263157895\n"
     ]
    }
   ],
   "source": [
    "# Model Accuracy, how often is the classifier correct?\n",
    "print(\"Accuracy:\",metrics.accuracy_score(y_test, y_pred))"
   ]
  },
  {
   "cell_type": "code",
   "execution_count": 21,
   "id": "8b545f8c",
   "metadata": {},
   "outputs": [
    {
     "name": "stdout",
     "output_type": "stream",
     "text": [
      "Requirement already satisfied: pydotplus in c:\\users\\user10\\anaconda3-new\\lib\\site-packages (2.0.2)\n",
      "Requirement already satisfied: pyparsing>=2.0.1 in c:\\users\\user10\\anaconda3-new\\lib\\site-packages (from pydotplus) (3.0.9)\n",
      "Note: you may need to restart the kernel to use updated packages.\n"
     ]
    }
   ],
   "source": [
    "pip install pydotplus"
   ]
  },
  {
   "cell_type": "code",
   "execution_count": 22,
   "id": "747978be",
   "metadata": {},
   "outputs": [
    {
     "name": "stdout",
     "output_type": "stream",
     "text": [
      "Requirement already satisfied: graphviz in c:\\users\\user10\\anaconda3-new\\lib\\site-packages (0.20.1)\n"
     ]
    }
   ],
   "source": [
    "!pip install graphviz"
   ]
  },
  {
   "cell_type": "code",
   "execution_count": 23,
   "id": "cdea8d07",
   "metadata": {},
   "outputs": [],
   "source": [
    "import os\n",
    "\n",
    "# Replace 'path_to_graphviz' with the actual Graphviz executable path\n",
    "os.environ[\"PATH\"] += os.pathsep + 'C:\\Program Files\\Graphviz\\bin'"
   ]
  },
  {
   "cell_type": "code",
   "execution_count": 35,
   "id": "c4355225",
   "metadata": {},
   "outputs": [
    {
     "ename": "NameError",
     "evalue": "name 'dot_data' is not defined",
     "output_type": "error",
     "traceback": [
      "\u001b[1;31m---------------------------------------------------------------------------\u001b[0m",
      "\u001b[1;31mNameError\u001b[0m                                 Traceback (most recent call last)",
      "\u001b[1;32m~\\AppData\\Local\\Temp\\ipykernel_10544\\2037300397.py\u001b[0m in \u001b[0;36m<module>\u001b[1;34m\u001b[0m\n\u001b[0;32m      7\u001b[0m \u001b[1;33m\u001b[0m\u001b[0m\n\u001b[0;32m      8\u001b[0m \u001b[1;31m# Create the graph\u001b[0m\u001b[1;33m\u001b[0m\u001b[1;33m\u001b[0m\u001b[0m\n\u001b[1;32m----> 9\u001b[1;33m \u001b[0mgraph\u001b[0m \u001b[1;33m=\u001b[0m \u001b[0mpydotplus\u001b[0m\u001b[1;33m.\u001b[0m\u001b[0mgraph_from_dot_data\u001b[0m\u001b[1;33m(\u001b[0m\u001b[0mdot_data\u001b[0m\u001b[1;33m.\u001b[0m\u001b[0mgetvalue\u001b[0m\u001b[1;33m(\u001b[0m\u001b[1;33m)\u001b[0m\u001b[1;33m)\u001b[0m\u001b[1;33m\u001b[0m\u001b[1;33m\u001b[0m\u001b[0m\n\u001b[0m\u001b[0;32m     10\u001b[0m \u001b[1;33m\u001b[0m\u001b[0m\n\u001b[0;32m     11\u001b[0m \u001b[1;31m# Set the path to Graphviz executable (replace 'path_to_graphviz' with the correct path)\u001b[0m\u001b[1;33m\u001b[0m\u001b[1;33m\u001b[0m\u001b[0m\n",
      "\u001b[1;31mNameError\u001b[0m: name 'dot_data' is not defined"
     ]
    }
   ],
   "source": [
    "from sklearn.tree import export_graphviz\n",
    "from io import StringIO\n",
    "from IPython.display import Image\n",
    "import pydotplus\n",
    "\n",
    "# Your code to create dot_data and define feature_cols goes here...\n",
    "\n",
    "# Create the graph\n",
    "graph = pydotplus.graph_from_dot_data(dot_data.getvalue())\n",
    "\n",
    "# Set the path to Graphviz executable (replace 'path_to_graphviz' with the correct path)\n",
    "# For example, on Windows:\n",
    "graph.set_graphviz_executables({'dot': r'C:\\Program Files\\Graphviz\\bin\\dot.exe'})\n",
    "\n",
    "# Save the graph as an image\n",
    "graph.write_png('Soil_Contamination_Data.png')\n",
    "Image(graph.create_png())"
   ]
  },
  {
   "cell_type": "code",
   "execution_count": 25,
   "id": "becb9b2d",
   "metadata": {},
   "outputs": [
    {
     "data": {
      "text/html": [
       "<a href='cleaned_data.xlsx' target='_blank'>cleaned_data.xlsx</a><br>"
      ],
      "text/plain": [
       "C:\\Users\\User10\\anaconda3\\cleaned_data.xlsx"
      ]
     },
     "execution_count": 25,
     "metadata": {},
     "output_type": "execute_result"
    }
   ],
   "source": [
    "from IPython.display import FileLink\n",
    "\n",
    "# Assuming your DataFrame is named 'cleaned_data' and you want to save it as 'cleaned_data.xlsx'\n",
    "soil_data.to_excel('cleaned_data.xlsx', index=False)  # Save DataFrame to Excel\n",
    "\n",
    "# Create a download link for the Excel file\n",
    "FileLink('cleaned_data.xlsx')"
   ]
  },
  {
   "cell_type": "code",
   "execution_count": 26,
   "id": "095b959f",
   "metadata": {},
   "outputs": [
    {
     "name": "stdout",
     "output_type": "stream",
     "text": [
      "[1]\n"
     ]
    },
    {
     "name": "stderr",
     "output_type": "stream",
     "text": [
      "C:\\Users\\User10\\anaconda3-new\\lib\\site-packages\\sklearn\\base.py:450: UserWarning: X does not have valid feature names, but DecisionTreeClassifier was fitted with feature names\n",
      "  warnings.warn(\n"
     ]
    }
   ],
   "source": [
    "# Example new data (replace this with your actual new data)\n",
    "X_new = [\n",
    "    [27,10,30,0]\n",
    "] #Example of Bausite Value\n",
    "\n",
    "# Predict on the new data\n",
    "predictions = clf.predict(X_new)\n",
    "print(predictions)  # Display the predicted labels for the new data\n"
   ]
  },
  {
   "cell_type": "code",
   "execution_count": 27,
   "id": "e3cc36ec",
   "metadata": {},
   "outputs": [
    {
     "name": "stdout",
     "output_type": "stream",
     "text": [
      "[1]\n"
     ]
    },
    {
     "name": "stderr",
     "output_type": "stream",
     "text": [
      "C:\\Users\\User10\\anaconda3-new\\lib\\site-packages\\sklearn\\base.py:450: UserWarning: X does not have valid feature names, but DecisionTreeClassifier was fitted with feature names\n",
      "  warnings.warn(\n"
     ]
    }
   ],
   "source": [
    "# Example new data (replace this with your actual new data)\n",
    "X_new = [\n",
    "    [50,4,30,30]\n",
    "] #Example of Suspected Gas Contamination Data\n",
    "\n",
    "# Predict on the new data\n",
    "predictions = clf.predict(X_new)\n",
    "print(predictions)  # Display the predicted labels for the new data"
   ]
  },
  {
   "cell_type": "code",
   "execution_count": 28,
   "id": "6aea55c1",
   "metadata": {},
   "outputs": [
    {
     "name": "stdout",
     "output_type": "stream",
     "text": [
      "[0]\n"
     ]
    },
    {
     "name": "stderr",
     "output_type": "stream",
     "text": [
      "C:\\Users\\User10\\anaconda3-new\\lib\\site-packages\\sklearn\\base.py:450: UserWarning: X does not have valid feature names, but DecisionTreeClassifier was fitted with feature names\n",
      "  warnings.warn(\n"
     ]
    }
   ],
   "source": [
    "X_new = [\n",
    "    [60,5,33,6]\n",
    "] #Example of Standard Palm Oil Plantation\n",
    "\n",
    "# Predict on the new data\n",
    "predictions = clf.predict(X_new)\n",
    "print(predictions)  # Display the predicted labels for the new data"
   ]
  },
  {
   "cell_type": "code",
   "execution_count": 29,
   "id": "2a7062fa",
   "metadata": {},
   "outputs": [
    {
     "name": "stdout",
     "output_type": "stream",
     "text": [
      "[1]\n"
     ]
    },
    {
     "name": "stderr",
     "output_type": "stream",
     "text": [
      "C:\\Users\\User10\\anaconda3-new\\lib\\site-packages\\sklearn\\base.py:450: UserWarning: X does not have valid feature names, but DecisionTreeClassifier was fitted with feature names\n",
      "  warnings.warn(\n"
     ]
    }
   ],
   "source": [
    "# Example new data (replace this with your actual new data)\n",
    "X_new = [\n",
    "    [26,5,30,6]\n",
    "] #Example of suspected contamination\n",
    "\n",
    "# Predict on the new data\n",
    "predictions = clf.predict(X_new)\n",
    "print(predictions)  # Display the predicted labels for the new data"
   ]
  },
  {
   "cell_type": "code",
   "execution_count": 31,
   "id": "5f7c0552",
   "metadata": {},
   "outputs": [
    {
     "name": "stdout",
     "output_type": "stream",
     "text": [
      "[0]\n"
     ]
    },
    {
     "name": "stderr",
     "output_type": "stream",
     "text": [
      "C:\\Users\\User10\\anaconda3-new\\lib\\site-packages\\sklearn\\base.py:450: UserWarning: X does not have valid feature names, but DecisionTreeClassifier was fitted with feature names\n",
      "  warnings.warn(\n"
     ]
    }
   ],
   "source": [
    "X_new = [\n",
    "    [60,5,33,6]\n",
    "] #Example of Standard Palm Oil Plantation\n",
    "\n",
    "# Predict on the new data\n",
    "predictions = clf.predict(X_new)\n",
    "print(predictions)  # Display the predicted labels for the new data"
   ]
  },
  {
   "cell_type": "code",
   "execution_count": null,
   "id": "a81f796a",
   "metadata": {},
   "outputs": [],
   "source": []
  }
 ],
 "metadata": {
  "kernelspec": {
   "display_name": "Python 3 (ipykernel)",
   "language": "python",
   "name": "python3"
  },
  "language_info": {
   "codemirror_mode": {
    "name": "ipython",
    "version": 3
   },
   "file_extension": ".py",
   "mimetype": "text/x-python",
   "name": "python",
   "nbconvert_exporter": "python",
   "pygments_lexer": "ipython3",
   "version": "3.9.13"
  }
 },
 "nbformat": 4,
 "nbformat_minor": 5
}
